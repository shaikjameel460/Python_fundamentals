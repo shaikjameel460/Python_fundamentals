{
 "cells": [
  {
   "cell_type": "code",
   "execution_count": 2,
   "metadata": {},
   "outputs": [],
   "source": [
    "#loops\n"
   ]
  },
  {
   "cell_type": "code",
   "execution_count": 4,
   "metadata": {},
   "outputs": [
    {
     "name": "stdout",
     "output_type": "stream",
     "text": [
      "Wish you a Very Happy new year,shyam\n"
     ]
    }
   ],
   "source": [
    "bank_customer=['shyam','tarak','farhan','kazim','jameel']\n",
    "print(f\"Wish you a Very Happy new year,{bank_customer[0]}\")"
   ]
  },
  {
   "cell_type": "code",
   "execution_count": 5,
   "metadata": {},
   "outputs": [
    {
     "name": "stdout",
     "output_type": "stream",
     "text": [
      "wish you a very happy new year,shyam\n",
      "wish you a very happy new year,tarak\n",
      "wish you a very happy new year,farhan\n",
      "wish you a very happy new year,kazim\n",
      "wish you a very happy new year,jameel\n"
     ]
    }
   ],
   "source": [
    "for customer in bank_customer:\n",
    "    print(f\"wish you a very happy new year,{customer}\")"
   ]
  },
  {
   "cell_type": "code",
   "execution_count": 7,
   "metadata": {},
   "outputs": [
    {
     "name": "stdout",
     "output_type": "stream",
     "text": [
      "wish you a very happy new year,shyam\n",
      "wish you a very happy new year,tarak\n",
      "wish you a very happy new year,farhan\n",
      "wish you a very happy new year,kazim\n",
      "wish you a very happy new year,jameel\n"
     ]
    }
   ],
   "source": [
    "for z in bank_customer:\n",
    "    print(f\"wish you a very happy new year,{z}\")"
   ]
  },
  {
   "cell_type": "code",
   "execution_count": 13,
   "metadata": {},
   "outputs": [
    {
     "name": "stdout",
     "output_type": "stream",
     "text": [
      "keep up the good work,shyam\n",
      "keep up the good work,tarak\n",
      "keep up the good work,farhan\n",
      "keep up the good work,kazim\n",
      "keep up the good work,jameel\n"
     ]
    }
   ],
   "source": [
    "for z in bank_customer:\n",
    "    print(f\"keep up the good work,{z}\")"
   ]
  },
  {
   "cell_type": "code",
   "execution_count": 20,
   "metadata": {},
   "outputs": [
    {
     "name": "stdout",
     "output_type": "stream",
     "text": [
      "keep up the good work,Shyam.\n",
      "\n",
      "keep up the good work,Tarak.\n",
      "\n",
      "keep up the good work,Farhan.\n",
      "\n",
      "keep up the good work,Kazim.\n",
      "\n",
      "keep up the good work,Jameel.\n",
      "\n"
     ]
    }
   ],
   "source": [
    "for z in bank_customer:\n",
    "    print(f\"keep up the good work,{z.title()}.\\n\")"
   ]
  },
  {
   "cell_type": "code",
   "execution_count": 22,
   "metadata": {},
   "outputs": [
    {
     "name": "stdout",
     "output_type": "stream",
     "text": [
      "keep up the good work,Shyam.\n",
      "\n",
      "keep up the good work,Tarak.\n",
      "\n",
      "keep up the good work,Farhan.\n",
      "\n",
      "keep up the good work,Kazim.\n",
      "\n",
      "keep up the good work,Jameel.\n",
      "\n",
      "thank you all\n"
     ]
    }
   ],
   "source": [
    "for z in bank_customer:\n",
    "    print(f\"keep up the good work,{z.title()}.\\n\")\n",
    "    \n",
    "print(\"thank you all\")    "
   ]
  },
  {
   "cell_type": "code",
   "execution_count": 23,
   "metadata": {},
   "outputs": [],
   "source": [
    "students=['jameel','farhan','usman','saqib']"
   ]
  },
  {
   "cell_type": "code",
   "execution_count": 24,
   "metadata": {},
   "outputs": [
    {
     "name": "stdout",
     "output_type": "stream",
     "text": [
      "['jameel', 'farhan', 'usman', 'saqib']\n"
     ]
    }
   ],
   "source": [
    "print(students)"
   ]
  },
  {
   "cell_type": "code",
   "execution_count": 25,
   "metadata": {},
   "outputs": [
    {
     "name": "stdout",
     "output_type": "stream",
     "text": [
      "['farhan', 'jameel', 'saqib', 'usman']\n"
     ]
    }
   ],
   "source": [
    "print(sorted(students))"
   ]
  },
  {
   "cell_type": "code",
   "execution_count": 26,
   "metadata": {},
   "outputs": [
    {
     "name": "stdout",
     "output_type": "stream",
     "text": [
      "['jameel', 'farhan', 'usman', 'saqib']\n"
     ]
    }
   ],
   "source": [
    "print(students)"
   ]
  },
  {
   "cell_type": "code",
   "execution_count": 27,
   "metadata": {},
   "outputs": [
    {
     "name": "stdout",
     "output_type": "stream",
     "text": [
      "['farhan', 'jameel', 'saqib', 'usman']\n"
     ]
    }
   ],
   "source": [
    "students.sort()\n",
    "print(students)"
   ]
  },
  {
   "cell_type": "code",
   "execution_count": 28,
   "metadata": {},
   "outputs": [
    {
     "name": "stdout",
     "output_type": "stream",
     "text": [
      "['farhan', 'jameel', 'saqib', 'usman']\n"
     ]
    }
   ],
   "source": [
    "print(students)"
   ]
  },
  {
   "cell_type": "code",
   "execution_count": null,
   "metadata": {},
   "outputs": [],
   "source": []
  }
 ],
 "metadata": {
  "kernelspec": {
   "display_name": "Python 3",
   "language": "python",
   "name": "python3"
  },
  "language_info": {
   "codemirror_mode": {
    "name": "ipython",
    "version": 3
   },
   "file_extension": ".py",
   "mimetype": "text/x-python",
   "name": "python",
   "nbconvert_exporter": "python",
   "pygments_lexer": "ipython3",
   "version": "3.7.6"
  }
 },
 "nbformat": 4,
 "nbformat_minor": 4
}
